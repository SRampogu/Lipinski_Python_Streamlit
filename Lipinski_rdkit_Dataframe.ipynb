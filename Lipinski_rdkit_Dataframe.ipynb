{
 "cells": [
  {
   "cell_type": "markdown",
   "id": "9e16200a",
   "metadata": {},
   "source": [
    "# Lipinski on a DATAFRAME"
   ]
  },
  {
   "cell_type": "code",
   "execution_count": 5,
   "id": "426e418a",
   "metadata": {},
   "outputs": [],
   "source": [
    "from rdkit import Chem\n",
    "from rdkit.Chem import Descriptors\n",
    "from rdkit.Chem import Descriptors, Draw, PandasTools\n",
    "from rdkit.Chem import Descriptors, Lipinski\n",
    "import numpy as np"
   ]
  },
  {
   "cell_type": "code",
   "execution_count": 6,
   "id": "af5c94be",
   "metadata": {},
   "outputs": [],
   "source": [
    "import pandas as pd"
   ]
  },
  {
   "cell_type": "code",
   "execution_count": 7,
   "id": "199a8b37",
   "metadata": {},
   "outputs": [],
   "source": [
    "df = pd.read_csv('lipin_rdkit.csv')"
   ]
  },
  {
   "cell_type": "code",
   "execution_count": 8,
   "id": "1a4db0d3",
   "metadata": {},
   "outputs": [
    {
     "data": {
      "text/html": [
       "<div>\n",
       "<style scoped>\n",
       "    .dataframe tbody tr th:only-of-type {\n",
       "        vertical-align: middle;\n",
       "    }\n",
       "\n",
       "    .dataframe tbody tr th {\n",
       "        vertical-align: top;\n",
       "    }\n",
       "\n",
       "    .dataframe thead th {\n",
       "        text-align: right;\n",
       "    }\n",
       "</style>\n",
       "<table border=\"1\" class=\"dataframe\">\n",
       "  <thead>\n",
       "    <tr style=\"text-align: right;\">\n",
       "      <th></th>\n",
       "      <th>Name</th>\n",
       "      <th>smiles</th>\n",
       "    </tr>\n",
       "  </thead>\n",
       "  <tbody>\n",
       "    <tr>\n",
       "      <th>0</th>\n",
       "      <td>Apigenin</td>\n",
       "      <td>C1=CC(=CC=C1C2=CC(=O)C3=C(C=C(C=C3O2)O)O)O</td>\n",
       "    </tr>\n",
       "    <tr>\n",
       "      <th>1</th>\n",
       "      <td>Baicalin</td>\n",
       "      <td>C1=CC=C(C=C1)C2=CC(=O)C3=C(C(=C(C=C3O2)OC4C(C(...</td>\n",
       "    </tr>\n",
       "    <tr>\n",
       "      <th>2</th>\n",
       "      <td>Baicalein</td>\n",
       "      <td>C1=CC=C(C=C1)C2=CC(=O)C3=C(O2)C=C(C(=C3O)O)O</td>\n",
       "    </tr>\n",
       "  </tbody>\n",
       "</table>\n",
       "</div>"
      ],
      "text/plain": [
       "        Name                                             smiles\n",
       "0   Apigenin         C1=CC(=CC=C1C2=CC(=O)C3=C(C=C(C=C3O2)O)O)O\n",
       "1   Baicalin  C1=CC=C(C=C1)C2=CC(=O)C3=C(C(=C(C=C3O2)OC4C(C(...\n",
       "2  Baicalein       C1=CC=C(C=C1)C2=CC(=O)C3=C(O2)C=C(C(=C3O)O)O"
      ]
     },
     "execution_count": 8,
     "metadata": {},
     "output_type": "execute_result"
    }
   ],
   "source": [
    "df"
   ]
  },
  {
   "cell_type": "code",
   "execution_count": 9,
   "id": "e161a3a4",
   "metadata": {},
   "outputs": [],
   "source": [
    "def lipinski_check(smiles):\n",
    "    \n",
    "    df=Chem.MolFromSmiles(smiles)\n",
    "    b=Descriptors.ExactMolWt(df)\n",
    "    c=Descriptors.NumHAcceptors(df)\n",
    "    d=Descriptors.NumHDonors(df)\n",
    "    e=Descriptors.MolLogP(df)\n",
    "    #df3=(b,c,d,e)\n",
    "    df3=pd.Series({\"MW\":b, \"nHA\":c, \"nHD\":d,\"LogP\":e})\n",
    "    #df4=pd.Series.to_frame(df3).T #(.T= transpose)\n",
    "    return(df3)"
   ]
  },
  {
   "cell_type": "code",
   "execution_count": 10,
   "id": "a51ef573",
   "metadata": {},
   "outputs": [],
   "source": [
    "df1=df[\"smiles\"].apply(lipinski_check)"
   ]
  },
  {
   "cell_type": "code",
   "execution_count": 11,
   "id": "79a87655",
   "metadata": {
    "scrolled": true
   },
   "outputs": [
    {
     "data": {
      "text/html": [
       "<div>\n",
       "<style scoped>\n",
       "    .dataframe tbody tr th:only-of-type {\n",
       "        vertical-align: middle;\n",
       "    }\n",
       "\n",
       "    .dataframe tbody tr th {\n",
       "        vertical-align: top;\n",
       "    }\n",
       "\n",
       "    .dataframe thead th {\n",
       "        text-align: right;\n",
       "    }\n",
       "</style>\n",
       "<table border=\"1\" class=\"dataframe\">\n",
       "  <thead>\n",
       "    <tr style=\"text-align: right;\">\n",
       "      <th></th>\n",
       "      <th>MW</th>\n",
       "      <th>nHA</th>\n",
       "      <th>nHD</th>\n",
       "      <th>LogP</th>\n",
       "    </tr>\n",
       "  </thead>\n",
       "  <tbody>\n",
       "    <tr>\n",
       "      <th>0</th>\n",
       "      <td>270.052823</td>\n",
       "      <td>5.0</td>\n",
       "      <td>3.0</td>\n",
       "      <td>2.5768</td>\n",
       "    </tr>\n",
       "    <tr>\n",
       "      <th>1</th>\n",
       "      <td>446.084911</td>\n",
       "      <td>10.0</td>\n",
       "      <td>6.0</td>\n",
       "      <td>0.1422</td>\n",
       "    </tr>\n",
       "    <tr>\n",
       "      <th>2</th>\n",
       "      <td>270.052823</td>\n",
       "      <td>5.0</td>\n",
       "      <td>3.0</td>\n",
       "      <td>2.5768</td>\n",
       "    </tr>\n",
       "  </tbody>\n",
       "</table>\n",
       "</div>"
      ],
      "text/plain": [
       "           MW   nHA  nHD    LogP\n",
       "0  270.052823   5.0  3.0  2.5768\n",
       "1  446.084911  10.0  6.0  0.1422\n",
       "2  270.052823   5.0  3.0  2.5768"
      ]
     },
     "execution_count": 11,
     "metadata": {},
     "output_type": "execute_result"
    }
   ],
   "source": [
    "df1"
   ]
  },
  {
   "cell_type": "code",
   "execution_count": null,
   "id": "485a9027",
   "metadata": {},
   "outputs": [],
   "source": []
  }
 ],
 "metadata": {
  "kernelspec": {
   "display_name": "Python 3 (ipykernel)",
   "language": "python",
   "name": "python3"
  },
  "language_info": {
   "codemirror_mode": {
    "name": "ipython",
    "version": 3
   },
   "file_extension": ".py",
   "mimetype": "text/x-python",
   "name": "python",
   "nbconvert_exporter": "python",
   "pygments_lexer": "ipython3",
   "version": "3.11.4"
  }
 },
 "nbformat": 4,
 "nbformat_minor": 5
}
